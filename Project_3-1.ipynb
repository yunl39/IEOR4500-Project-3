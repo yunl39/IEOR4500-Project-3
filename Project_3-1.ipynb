{
 "cells": [
  {
   "cell_type": "markdown",
   "id": "a2a78808",
   "metadata": {
    "id": "a2a78808"
   },
   "source": [
    "# Project 3.  Due October 31"
   ]
  },
  {
   "cell_type": "code",
   "execution_count": 2,
   "id": "35d12338",
   "metadata": {
    "id": "35d12338"
   },
   "outputs": [
    {
     "name": "stderr",
     "output_type": "stream",
     "text": [
      "/Users/sophialin/anaconda3/lib/python3.11/site-packages/pandas/core/arrays/masked.py:61: UserWarning: Pandas requires version '1.3.6' or newer of 'bottleneck' (version '1.3.5' currently installed).\n",
      "  from pandas.core import (\n"
     ]
    }
   ],
   "source": [
    "import sys\n",
    "import numpy as np\n",
    "import pandas as pd\n",
    "import math\n",
    "import matplotlib.pyplot as plt\n",
    "import numpy.linalg as LA"
   ]
  },
  {
   "cell_type": "markdown",
   "id": "ba8a46bd",
   "metadata": {
    "id": "ba8a46bd"
   },
   "source": [
    "### The attached file, 'polluteddata.csv', contains the following data.\n",
    "### We took intraday price values for an asset; this time series was then split into half-hour intervals for a total of 1709 intervals"
   ]
  },
  {
   "cell_type": "code",
   "execution_count": 3,
   "id": "Aa2lgJz6MMB1",
   "metadata": {
    "id": "Aa2lgJz6MMB1"
   },
   "outputs": [],
   "source": [
    "data = pd.read_csv('polluteddata.csv',header=None)\n",
    "polluteddata = data.to_numpy()"
   ]
  },
  {
   "cell_type": "code",
   "execution_count": 4,
   "id": "bKhPNz_tM7Xg",
   "metadata": {
    "colab": {
     "base_uri": "https://localhost:8080/",
     "height": 444
    },
    "id": "bKhPNz_tM7Xg",
    "outputId": "b63d91f9-a2ea-4c6d-9bb6-a487e59c45ea"
   },
   "outputs": [
    {
     "data": {
      "text/html": [
       "<div>\n",
       "<style scoped>\n",
       "    .dataframe tbody tr th:only-of-type {\n",
       "        vertical-align: middle;\n",
       "    }\n",
       "\n",
       "    .dataframe tbody tr th {\n",
       "        vertical-align: top;\n",
       "    }\n",
       "\n",
       "    .dataframe thead th {\n",
       "        text-align: right;\n",
       "    }\n",
       "</style>\n",
       "<table border=\"1\" class=\"dataframe\">\n",
       "  <thead>\n",
       "    <tr style=\"text-align: right;\">\n",
       "      <th></th>\n",
       "      <th>0</th>\n",
       "      <th>1</th>\n",
       "      <th>2</th>\n",
       "      <th>3</th>\n",
       "      <th>4</th>\n",
       "      <th>5</th>\n",
       "      <th>6</th>\n",
       "      <th>7</th>\n",
       "      <th>8</th>\n",
       "      <th>9</th>\n",
       "      <th>...</th>\n",
       "      <th>21</th>\n",
       "      <th>22</th>\n",
       "      <th>23</th>\n",
       "      <th>24</th>\n",
       "      <th>25</th>\n",
       "      <th>26</th>\n",
       "      <th>27</th>\n",
       "      <th>28</th>\n",
       "      <th>29</th>\n",
       "      <th>30</th>\n",
       "    </tr>\n",
       "  </thead>\n",
       "  <tbody>\n",
       "    <tr>\n",
       "      <th>0</th>\n",
       "      <td>0.0</td>\n",
       "      <td>0.0</td>\n",
       "      <td>-3.00</td>\n",
       "      <td>-8.26</td>\n",
       "      <td>-10.55</td>\n",
       "      <td>-8.56</td>\n",
       "      <td>-18.08</td>\n",
       "      <td>-12.67</td>\n",
       "      <td>-14.29</td>\n",
       "      <td>-16.08</td>\n",
       "      <td>...</td>\n",
       "      <td>-27.58</td>\n",
       "      <td>-31.51</td>\n",
       "      <td>-27.53</td>\n",
       "      <td>-25.24</td>\n",
       "      <td>-25.32</td>\n",
       "      <td>-24.44</td>\n",
       "      <td>-28.04</td>\n",
       "      <td>-30.94</td>\n",
       "      <td>-29.57</td>\n",
       "      <td>-27.56</td>\n",
       "    </tr>\n",
       "    <tr>\n",
       "      <th>1</th>\n",
       "      <td>1.0</td>\n",
       "      <td>0.0</td>\n",
       "      <td>0.12</td>\n",
       "      <td>-0.41</td>\n",
       "      <td>-2.56</td>\n",
       "      <td>0.15</td>\n",
       "      <td>-1.65</td>\n",
       "      <td>-5.14</td>\n",
       "      <td>-5.09</td>\n",
       "      <td>-8.06</td>\n",
       "      <td>...</td>\n",
       "      <td>-6.65</td>\n",
       "      <td>-5.43</td>\n",
       "      <td>-6.13</td>\n",
       "      <td>-3.42</td>\n",
       "      <td>-4.48</td>\n",
       "      <td>-4.85</td>\n",
       "      <td>-4.47</td>\n",
       "      <td>-4.68</td>\n",
       "      <td>-2.10</td>\n",
       "      <td>-0.28</td>\n",
       "    </tr>\n",
       "    <tr>\n",
       "      <th>2</th>\n",
       "      <td>2.0</td>\n",
       "      <td>0.0</td>\n",
       "      <td>-2.80</td>\n",
       "      <td>-3.46</td>\n",
       "      <td>-5.80</td>\n",
       "      <td>-3.86</td>\n",
       "      <td>-2.60</td>\n",
       "      <td>-5.30</td>\n",
       "      <td>-4.81</td>\n",
       "      <td>-3.30</td>\n",
       "      <td>...</td>\n",
       "      <td>-12.74</td>\n",
       "      <td>-13.02</td>\n",
       "      <td>-15.99</td>\n",
       "      <td>-14.15</td>\n",
       "      <td>-14.92</td>\n",
       "      <td>-16.80</td>\n",
       "      <td>-16.88</td>\n",
       "      <td>-19.53</td>\n",
       "      <td>-25.30</td>\n",
       "      <td>-19.60</td>\n",
       "    </tr>\n",
       "    <tr>\n",
       "      <th>3</th>\n",
       "      <td>3.0</td>\n",
       "      <td>0.0</td>\n",
       "      <td>-1.95</td>\n",
       "      <td>-9.58</td>\n",
       "      <td>-13.68</td>\n",
       "      <td>-13.64</td>\n",
       "      <td>-18.36</td>\n",
       "      <td>-22.33</td>\n",
       "      <td>-15.70</td>\n",
       "      <td>-16.69</td>\n",
       "      <td>...</td>\n",
       "      <td>-19.50</td>\n",
       "      <td>-17.76</td>\n",
       "      <td>-18.52</td>\n",
       "      <td>-20.12</td>\n",
       "      <td>-17.35</td>\n",
       "      <td>-14.18</td>\n",
       "      <td>-15.57</td>\n",
       "      <td>-15.42</td>\n",
       "      <td>-19.58</td>\n",
       "      <td>-17.68</td>\n",
       "    </tr>\n",
       "    <tr>\n",
       "      <th>4</th>\n",
       "      <td>4.0</td>\n",
       "      <td>0.0</td>\n",
       "      <td>-1.11</td>\n",
       "      <td>1.62</td>\n",
       "      <td>-0.34</td>\n",
       "      <td>-5.76</td>\n",
       "      <td>-2.53</td>\n",
       "      <td>-0.56</td>\n",
       "      <td>1.45</td>\n",
       "      <td>0.62</td>\n",
       "      <td>...</td>\n",
       "      <td>0.49</td>\n",
       "      <td>-3.04</td>\n",
       "      <td>-0.82</td>\n",
       "      <td>-8.32</td>\n",
       "      <td>-3.87</td>\n",
       "      <td>-10.33</td>\n",
       "      <td>-11.46</td>\n",
       "      <td>-8.94</td>\n",
       "      <td>-16.81</td>\n",
       "      <td>-16.08</td>\n",
       "    </tr>\n",
       "    <tr>\n",
       "      <th>...</th>\n",
       "      <td>...</td>\n",
       "      <td>...</td>\n",
       "      <td>...</td>\n",
       "      <td>...</td>\n",
       "      <td>...</td>\n",
       "      <td>...</td>\n",
       "      <td>...</td>\n",
       "      <td>...</td>\n",
       "      <td>...</td>\n",
       "      <td>...</td>\n",
       "      <td>...</td>\n",
       "      <td>...</td>\n",
       "      <td>...</td>\n",
       "      <td>...</td>\n",
       "      <td>...</td>\n",
       "      <td>...</td>\n",
       "      <td>...</td>\n",
       "      <td>...</td>\n",
       "      <td>...</td>\n",
       "      <td>...</td>\n",
       "      <td>...</td>\n",
       "    </tr>\n",
       "    <tr>\n",
       "      <th>1704</th>\n",
       "      <td>1704.0</td>\n",
       "      <td>0.0</td>\n",
       "      <td>0.38</td>\n",
       "      <td>-0.73</td>\n",
       "      <td>-3.09</td>\n",
       "      <td>-2.31</td>\n",
       "      <td>-2.46</td>\n",
       "      <td>-7.22</td>\n",
       "      <td>-5.85</td>\n",
       "      <td>-4.63</td>\n",
       "      <td>...</td>\n",
       "      <td>-23.96</td>\n",
       "      <td>-19.09</td>\n",
       "      <td>-17.55</td>\n",
       "      <td>-23.27</td>\n",
       "      <td>-20.66</td>\n",
       "      <td>-18.36</td>\n",
       "      <td>-18.05</td>\n",
       "      <td>-16.96</td>\n",
       "      <td>-21.37</td>\n",
       "      <td>-25.62</td>\n",
       "    </tr>\n",
       "    <tr>\n",
       "      <th>1705</th>\n",
       "      <td>1705.0</td>\n",
       "      <td>0.0</td>\n",
       "      <td>-3.21</td>\n",
       "      <td>-9.32</td>\n",
       "      <td>-2.90</td>\n",
       "      <td>-7.39</td>\n",
       "      <td>-8.25</td>\n",
       "      <td>1.42</td>\n",
       "      <td>1.40</td>\n",
       "      <td>2.22</td>\n",
       "      <td>...</td>\n",
       "      <td>4.42</td>\n",
       "      <td>4.05</td>\n",
       "      <td>1.48</td>\n",
       "      <td>-7.24</td>\n",
       "      <td>-7.92</td>\n",
       "      <td>-15.95</td>\n",
       "      <td>-18.73</td>\n",
       "      <td>-14.73</td>\n",
       "      <td>-12.64</td>\n",
       "      <td>-12.91</td>\n",
       "    </tr>\n",
       "    <tr>\n",
       "      <th>1706</th>\n",
       "      <td>1706.0</td>\n",
       "      <td>0.0</td>\n",
       "      <td>-0.83</td>\n",
       "      <td>1.65</td>\n",
       "      <td>2.19</td>\n",
       "      <td>1.62</td>\n",
       "      <td>0.45</td>\n",
       "      <td>0.63</td>\n",
       "      <td>4.18</td>\n",
       "      <td>4.02</td>\n",
       "      <td>...</td>\n",
       "      <td>18.51</td>\n",
       "      <td>18.66</td>\n",
       "      <td>16.63</td>\n",
       "      <td>14.55</td>\n",
       "      <td>16.01</td>\n",
       "      <td>13.66</td>\n",
       "      <td>15.52</td>\n",
       "      <td>15.37</td>\n",
       "      <td>16.70</td>\n",
       "      <td>12.52</td>\n",
       "    </tr>\n",
       "    <tr>\n",
       "      <th>1707</th>\n",
       "      <td>1707.0</td>\n",
       "      <td>0.0</td>\n",
       "      <td>0.34</td>\n",
       "      <td>-0.90</td>\n",
       "      <td>-2.51</td>\n",
       "      <td>-2.15</td>\n",
       "      <td>-4.72</td>\n",
       "      <td>-4.57</td>\n",
       "      <td>-7.59</td>\n",
       "      <td>-5.22</td>\n",
       "      <td>...</td>\n",
       "      <td>0.95</td>\n",
       "      <td>3.28</td>\n",
       "      <td>-0.92</td>\n",
       "      <td>0.28</td>\n",
       "      <td>-2.47</td>\n",
       "      <td>-7.22</td>\n",
       "      <td>-9.03</td>\n",
       "      <td>-10.33</td>\n",
       "      <td>-12.30</td>\n",
       "      <td>-16.24</td>\n",
       "    </tr>\n",
       "    <tr>\n",
       "      <th>1708</th>\n",
       "      <td>1708.0</td>\n",
       "      <td>0.0</td>\n",
       "      <td>-2.59</td>\n",
       "      <td>-5.96</td>\n",
       "      <td>-5.24</td>\n",
       "      <td>-1.99</td>\n",
       "      <td>-3.95</td>\n",
       "      <td>-3.61</td>\n",
       "      <td>-6.79</td>\n",
       "      <td>-8.99</td>\n",
       "      <td>...</td>\n",
       "      <td>-1.92</td>\n",
       "      <td>-6.59</td>\n",
       "      <td>-10.11</td>\n",
       "      <td>-10.89</td>\n",
       "      <td>-10.23</td>\n",
       "      <td>-11.45</td>\n",
       "      <td>-8.46</td>\n",
       "      <td>-11.56</td>\n",
       "      <td>-9.29</td>\n",
       "      <td>-5.78</td>\n",
       "    </tr>\n",
       "  </tbody>\n",
       "</table>\n",
       "<p>1709 rows × 31 columns</p>\n",
       "</div>"
      ],
      "text/plain": [
       "          0    1     2     3      4      5      6      7      8      9   ...  \\\n",
       "0        0.0  0.0 -3.00 -8.26 -10.55  -8.56 -18.08 -12.67 -14.29 -16.08  ...   \n",
       "1        1.0  0.0  0.12 -0.41  -2.56   0.15  -1.65  -5.14  -5.09  -8.06  ...   \n",
       "2        2.0  0.0 -2.80 -3.46  -5.80  -3.86  -2.60  -5.30  -4.81  -3.30  ...   \n",
       "3        3.0  0.0 -1.95 -9.58 -13.68 -13.64 -18.36 -22.33 -15.70 -16.69  ...   \n",
       "4        4.0  0.0 -1.11  1.62  -0.34  -5.76  -2.53  -0.56   1.45   0.62  ...   \n",
       "...      ...  ...   ...   ...    ...    ...    ...    ...    ...    ...  ...   \n",
       "1704  1704.0  0.0  0.38 -0.73  -3.09  -2.31  -2.46  -7.22  -5.85  -4.63  ...   \n",
       "1705  1705.0  0.0 -3.21 -9.32  -2.90  -7.39  -8.25   1.42   1.40   2.22  ...   \n",
       "1706  1706.0  0.0 -0.83  1.65   2.19   1.62   0.45   0.63   4.18   4.02  ...   \n",
       "1707  1707.0  0.0  0.34 -0.90  -2.51  -2.15  -4.72  -4.57  -7.59  -5.22  ...   \n",
       "1708  1708.0  0.0 -2.59 -5.96  -5.24  -1.99  -3.95  -3.61  -6.79  -8.99  ...   \n",
       "\n",
       "         21     22     23     24     25     26     27     28     29     30  \n",
       "0    -27.58 -31.51 -27.53 -25.24 -25.32 -24.44 -28.04 -30.94 -29.57 -27.56  \n",
       "1     -6.65  -5.43  -6.13  -3.42  -4.48  -4.85  -4.47  -4.68  -2.10  -0.28  \n",
       "2    -12.74 -13.02 -15.99 -14.15 -14.92 -16.80 -16.88 -19.53 -25.30 -19.60  \n",
       "3    -19.50 -17.76 -18.52 -20.12 -17.35 -14.18 -15.57 -15.42 -19.58 -17.68  \n",
       "4      0.49  -3.04  -0.82  -8.32  -3.87 -10.33 -11.46  -8.94 -16.81 -16.08  \n",
       "...     ...    ...    ...    ...    ...    ...    ...    ...    ...    ...  \n",
       "1704 -23.96 -19.09 -17.55 -23.27 -20.66 -18.36 -18.05 -16.96 -21.37 -25.62  \n",
       "1705   4.42   4.05   1.48  -7.24  -7.92 -15.95 -18.73 -14.73 -12.64 -12.91  \n",
       "1706  18.51  18.66  16.63  14.55  16.01  13.66  15.52  15.37  16.70  12.52  \n",
       "1707   0.95   3.28  -0.92   0.28  -2.47  -7.22  -9.03 -10.33 -12.30 -16.24  \n",
       "1708  -1.92  -6.59 -10.11 -10.89 -10.23 -11.45  -8.46 -11.56  -9.29  -5.78  \n",
       "\n",
       "[1709 rows x 31 columns]"
      ]
     },
     "execution_count": 4,
     "metadata": {},
     "output_type": "execute_result"
    }
   ],
   "source": [
    "data"
   ]
  },
  {
   "cell_type": "code",
   "execution_count": 5,
   "id": "eXN6E3DhMlqK",
   "metadata": {
    "colab": {
     "base_uri": "https://localhost:8080/"
    },
    "id": "eXN6E3DhMlqK",
    "outputId": "dd0e89ab-61d3-4b7e-96e6-5db24c7d491a"
   },
   "outputs": [
    {
     "data": {
      "text/plain": [
       "(1709, 31)"
      ]
     },
     "execution_count": 5,
     "metadata": {},
     "output_type": "execute_result"
    }
   ],
   "source": [
    "data.shape"
   ]
  },
  {
   "cell_type": "markdown",
   "id": "7927e755",
   "metadata": {
    "id": "7927e755"
   },
   "source": [
    "### There are 1709 lines in this file, one for each half-hour interval.  Each line begins with the count of the corresponding half-hour"
   ]
  },
  {
   "cell_type": "code",
   "execution_count": 6,
   "id": "44068289",
   "metadata": {
    "colab": {
     "base_uri": "https://localhost:8080/"
    },
    "id": "44068289",
    "outputId": "ec45f13f-fffd-40a3-db42-ef6daa0e96c1"
   },
   "outputs": [
    {
     "name": "stdout",
     "output_type": "stream",
     "text": [
      "half-hour 0 data: [  0.     0.    -3.    -8.26 -10.55  -8.56 -18.08 -12.67 -14.29 -16.08\n",
      " -20.04 -15.81 -14.56 -17.34 -20.14 -15.96 -14.3  -15.82 -15.07 -12.39\n",
      " -20.65 -27.58 -31.51 -27.53 -25.24 -25.32 -24.44 -28.04 -30.94 -29.57\n",
      " -27.56]\n",
      "half-hour 1 data: [  1.     0.     0.12  -0.41  -2.56   0.15  -1.65  -5.14  -5.09  -8.06\n",
      "  -9.05 -14.9  -18.27 -16.18 -15.42 -13.8  -12.89 -12.87 -10.18 -12.7\n",
      "  -9.21  -6.65  -5.43  -6.13  -3.42  -4.48  -4.85  -4.47  -4.68  -2.1\n",
      "  -0.28]\n",
      "half-hour 2 data: [  2.     0.    -2.8   -3.46  -5.8   -3.86  -2.6   -5.3   -4.81  -3.3\n",
      "  -0.28   1.33   0.68   2.3    1.65  -9.32 -11.74 -11.49 -19.37 -11.8\n",
      " -10.87 -12.74 -13.02 -15.99 -14.15 -14.92 -16.8  -16.88 -19.53 -25.3\n",
      " -19.6 ]\n"
     ]
    }
   ],
   "source": [
    "for t in range(3): #len(polluteddata[0,:])):\n",
    "    print('half-hour',t, 'data:',polluteddata[t,:])"
   ]
  },
  {
   "cell_type": "markdown",
   "id": "ddf78f1d",
   "metadata": {
    "id": "ddf78f1d"
   },
   "source": [
    "### The data was constructed as follows for each half hour interval $t$.  Suppose that $p(t, k)$ denotes the price of the asset in minute $k$ of half-hour $t$.  Here $k = 0,1,\\ldots, 29$.  \n",
    "### The data in position $k+1$ of line $t$ of the file equals $p(t,k) - p(t,0)$, i.e. the change in price between minute $k$ and minute $0$."
   ]
  },
  {
   "cell_type": "markdown",
   "id": "5a9068d7",
   "metadata": {
    "id": "5a9068d7"
   },
   "source": [
    "### EXCEPT that:\n",
    "### The data was <font color = \"red\">polluted</font> in a <font color = \"red\">significant and correlated</font> manner during a certain <font color = \"red\"> interval $[t_1, t_2]$ </font> of half-hours.\n",
    "### Your task is to identify this interval $[t_1, t_2]$ as closely as possible, using <font color = \"red\">covariance analysis techniques</font>.\n",
    "### Please use power method if you want to find the largest eigenvalue and its corresponding eigenvector for certain matrices.\n",
    "### Please note that we are not interested in small, random noise.  We are looking for a large change in the covariance structure."
   ]
  },
  {
   "cell_type": "code",
   "execution_count": 7,
   "id": "754f3aa9",
   "metadata": {},
   "outputs": [],
   "source": [
    "X = data.iloc[:, 1:].values\n"
   ]
  },
  {
   "cell_type": "code",
   "execution_count": 108,
   "id": "ab1e23f1",
   "metadata": {},
   "outputs": [],
   "source": [
    "def runpower2(A, tolerance=1e-8, maxiters=1000, v0=None):\n",
    "    \"\"\"\n",
    "    Power iteration for the dominant eigenpair of A.\n",
    "\n",
    "    Parameters\n",
    "    ----------\n",
    "    A : (n, n) array_like\n",
    "        Square matrix. For fastest/most reliable convergence, A should be symmetric\n",
    "        (then you get the largest eigenvalue and its eigenvector).\n",
    "    tolerance : float\n",
    "        Relative residual tolerance for convergence.\n",
    "    maxiters : int\n",
    "        Maximum number of iterations.\n",
    "    v0 : (n,) array_like or None\n",
    "        Optional initial vector. If None, a random vector is used.\n",
    "\n",
    "    Returns\n",
    "    -------\n",
    "    eigval : float\n",
    "        Approximate dominant eigenvalue (Rayleigh quotient).\n",
    "    eigvec : (n,) ndarray\n",
    "        Corresponding unit-norm eigenvector.\n",
    "    iters : int\n",
    "        Number of iterations performed.\n",
    "    converged : bool\n",
    "        True if residual-based stopping criterion was met.\n",
    "    \"\"\"\n",
    "    A = np.asarray(A, dtype=float)\n",
    "    n, m = A.shape\n",
    "    if n != m:\n",
    "        raise ValueError(\"A must be square\")\n",
    "\n",
    "    # Initialize v\n",
    "    if v0 is None:\n",
    "        v = np.random.default_rng().standard_normal(n)    # or v = np.random.rand(n)\n",
    "    else:\n",
    "        v = np.asarray(v0, dtype=float).copy()\n",
    "        if v.shape != (n,):\n",
    "            raise ValueError(f\"v0 must have shape ({n},)\")\n",
    "\n",
    "    # Normalize initial vector\n",
    "    nv = np.linalg.norm(v)\n",
    "    if nv == 0:\n",
    "        raise ValueError(\"Initial vector v0 must be nonzero\")\n",
    "    v /= nv\n",
    "\n",
    "    eigval = 0.0\n",
    "    for t in range(1, maxiters + 1):\n",
    "        w = A @ v\n",
    "        nw = np.linalg.norm(w)\n",
    "        if nw == 0:\n",
    "            # v is in the null space (only possible if A is singular and unlucky init)\n",
    "            return 0.0, v, t, False\n",
    "\n",
    "        v = w / nw\n",
    "        eigval_new = float(v @ (A @ v))\n",
    "\n",
    "        # Residual-based stopping test: ||Av - λv|| / (|λ| + eps)\n",
    "        # This is more reliable than comparing successive norms.\n",
    "        res = np.linalg.norm(A @ v - eigval_new * v) / (abs(eigval_new) + 1e-15)\n",
    "        if res < tolerance:\n",
    "            return eigval_new, v, t, True\n",
    "\n",
    "        eigval = eigval_new\n",
    "\n",
    "    # Not converged within maxiters\n",
    "    return eigval, v, maxiters, False"
   ]
  },
  {
   "cell_type": "code",
   "execution_count": 124,
   "id": "a3c75b41",
   "metadata": {},
   "outputs": [],
   "source": [
    "window_size = 100\n",
    "T = X.shape[0]\n",
    "largest_eigs = []\n",
    "rolling_covariances = []\n",
    "maxiters = 1000\n",
    "tolerance = 1e-10\n",
    "for t in range(window_size, T+1):\n",
    "    window_data = X[t-window_size:t, :]\n",
    "    window_cov = np.cov(window_data, rowvar=T)\n",
    "    rolling_covariances.append(window_cov)\n",
    "    eig_val = runpower2(window_cov, tolerance, maxiters, v0=None)[0]\n",
    "    largest_eigs.append(eig_val)\n"
   ]
  },
  {
   "cell_type": "code",
   "execution_count": 125,
   "id": "10063fe2",
   "metadata": {},
   "outputs": [
    {
     "data": {
      "image/png": "[encoded data removed]",
      "text/plain": [
       "<Figure size 640x480 with 1 Axes>"
      ]
     },
     "metadata": {},
     "output_type": "display_data"
    }
   ],
   "source": [
    "plt.plot(np.arange(window_size - 1, T), largest_eigs)\n",
    "plt.title(f'Largest Eigenvalue of Rolling Covariance Matrix (Window Size={window_size})')\n",
    "plt.xlabel('Half-Hour Interval Index (t)')\n",
    "plt.ylabel('Largest Eigenvalue ($\\lambda_{max}$)')\n",
    "plt.grid(True, linestyle='--', alpha=0.7)\n",
    "plt.show()"
   ]
  },
  {
   "cell_type": "code",
   "execution_count": 151,
   "id": "fcb56248",
   "metadata": {},
   "outputs": [
    {
     "name": "stdout",
     "output_type": "stream",
     "text": [
      "Baseline Mean: 2755.34\n",
      "Baseline St. Dev: 3006.87\n",
      "Chosen Threshold: 17789.70\n",
      "\n"
     ]
    }
   ],
   "source": [
    "largest_eigs = np.array(largest_eigs)\n",
    "T = largest_eigs.shape[0] \n",
    "baseline_data = largest_eigs[:750] \n",
    "baseline_mean = np.mean(baseline_data)\n",
    "baseline_std = np.std(baseline_data)\n",
    "\n",
    "k_std = 5\n",
    "threshold = baseline_mean + k_std * baseline_std\n",
    "\n",
    "print(f\"Baseline Mean: {baseline_mean:.2f}\")\n",
    "print(f\"Baseline St. Dev: {baseline_std:.2f}\")\n",
    "print(f\"Chosen Threshold: {threshold:.2f}\\n\")"
   ]
  },
  {
   "cell_type": "code",
   "execution_count": 152,
   "id": "80575177",
   "metadata": {},
   "outputs": [],
   "source": [
    "exceeding_t = np.where(largest_eigs > threshold)[0]"
   ]
  },
  {
   "cell_type": "code",
   "execution_count": 153,
   "id": "faeeff42",
   "metadata": {},
   "outputs": [
    {
     "name": "stdout",
     "output_type": "stream",
     "text": [
      "Interval [t1, t2] where the pollution is detected (Eigenvalue > 17790):\n",
      "t1: 848\n",
      "t2: 865\n",
      "Length of polluted interval: 18 half-hour intervals\n"
     ]
    }
   ],
   "source": [
    "if len(exceeding_t) == 0:\n",
    "    print(\"Error: No data points exceeded the calculated threshold.\")\n",
    "else:\n",
    "    t_start = exceeding_t[0]\n",
    "    t_end = np.argmax(largest_eigs)\n",
    "    t_1 = t_start + (window_size - 1)\n",
    "    t_2 = t_end + (window_size - 1)\n",
    "\n",
    "    print(f\"Interval [t1, t2] where the pollution is detected (Eigenvalue > {threshold:.0f}):\")\n",
    "    print(f\"t1: {t_1}\")\n",
    "    print(f\"t2: {t_2}\")\n",
    "    print(f\"Length of polluted interval: {t_2 - t_1 + 1} half-hour intervals\")"
   ]
  },
  {
   "cell_type": "code",
   "execution_count": 154,
   "id": "9268e876",
   "metadata": {},
   "outputs": [],
   "source": [
    "interval = X[t_1:t_2+1, :]\n",
    "interval_df = pd.DataFrame(interval)"
   ]
  },
  {
   "cell_type": "code",
   "execution_count": 155,
   "id": "72b623d2",
   "metadata": {},
   "outputs": [],
   "source": [
    "corr_mat = interval_df.T.corr()"
   ]
  },
  {
   "cell_type": "code",
   "execution_count": 156,
   "id": "742d586e",
   "metadata": {},
   "outputs": [
    {
     "data": {
      "image/png": "[encoded data removed]",
      "text/plain": [
       "<Figure size 1000x800 with 2 Axes>"
      ]
     },
     "metadata": {},
     "output_type": "display_data"
    }
   ],
   "source": [
    "import seaborn as sns\n",
    "plt.figure(figsize=(10, 8))\n",
    "sns.heatmap(\n",
    "    corr_mat,\n",
    "    annot=False,  \n",
    "    cmap='coolwarm', \n",
    "    vmin=-1,       \n",
    "    vmax=1,\n",
    "    cbar_kws={'label': 'Correlation Coefficient'}\n",
    ")\n",
    "\n",
    "plt.title('Correlation Heatmap of Polluted Interval Data')\n",
    "plt.xlabel('Interval Index')\n",
    "plt.ylabel('Interval Index')\n",
    "plt.show()"
   ]
  }
 ],
 "metadata": {
  "colab": {
   "provenance": []
  },
  "kernelspec": {
   "display_name": "base",
   "language": "python",
   "name": "python3"
  },
  "language_info": {
   "codemirror_mode": {
    "name": "ipython",
    "version": 3
   },
   "file_extension": ".py",
   "mimetype": "text/x-python",
   "name": "python",
   "nbconvert_exporter": "python",
   "pygments_lexer": "ipython3",
   "version": "3.11.5"
  }
 },
 "nbformat": 4,
 "nbformat_minor": 5
}
